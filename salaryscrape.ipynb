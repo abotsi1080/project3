{
 "cells": [
  {
   "cell_type": "markdown",
   "metadata": {},
   "source": [
    "### Code to scrape for 2020-21 salaries on ESPN"
   ]
  },
  {
   "cell_type": "code",
   "execution_count": 45,
   "metadata": {},
   "outputs": [],
   "source": [
    "import pandas as pd\n",
    "\n",
    "page = 1\n",
    "player_salaries = pd.DataFrame()\n",
    "while page != 16: \n",
    "    url = f\"http://www.espn.com/nba/salaries/_/year/2021/page/{page}\"\n",
    "    df = pd.read_html(url, header=0)[0]\n",
    "    df = df[df.NAME != \"NAME\"]\n",
    "    df['NAME'] = df['NAME'].str.split(\",\", expand=True)[0]\n",
    "\n",
    "    concat = pd.concat([player_salaries, df])\n",
    "    concat.reset_index(drop=True)\n",
    "    player_salaries = concat\n",
    "\n",
    "    page += 1\n",
    "    \n",
    "player_salaries.to_csv(\"player_salaries.csv\", index=False)"
   ]
  }
 ],
 "metadata": {
  "interpreter": {
   "hash": "e04390b745d7540077d5afc7ea9b350ff3db0922faee759c3145cf85f5ee4c0c"
  },
  "kernelspec": {
   "display_name": "Python 3.9.7 ('base')",
   "language": "python",
   "name": "python3"
  },
  "language_info": {
   "codemirror_mode": {
    "name": "ipython",
    "version": 3
   },
   "file_extension": ".py",
   "mimetype": "text/x-python",
   "name": "python",
   "nbconvert_exporter": "python",
   "pygments_lexer": "ipython3",
   "version": "3.9.7"
  },
  "orig_nbformat": 4
 },
 "nbformat": 4,
 "nbformat_minor": 2
}
